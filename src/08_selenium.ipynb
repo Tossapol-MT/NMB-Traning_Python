{
 "cells": [
  {
   "cell_type": "markdown",
   "metadata": {},
   "source": [
    "## Selenium"
   ]
  },
  {
   "cell_type": "code",
   "execution_count": 2,
   "metadata": {},
   "outputs": [],
   "source": [
    "# !pip install selenium"
   ]
  },
  {
   "cell_type": "code",
   "execution_count": 19,
   "metadata": {},
   "outputs": [
    {
     "name": "stdout",
     "output_type": "stream",
     "text": [
      "Welcome to Python.org\n",
      "https://www.python.org/search/?q=getting+started+with+python&submit=\n"
     ]
    }
   ],
   "source": [
    "from selenium import webdriver\n",
    "from selenium.webdriver.common.by import By\n",
    "from selenium.webdriver.common.keys import Keys\n",
    "\n",
    "driver = webdriver.Chrome()\n",
    "\n",
    "driver.get(\"https://www.python.org\")\n",
    "search_bar = driver.find_element(By.XPATH,'//*[@id=\"id-search-field\"]')\n",
    "# search_bar = driver.find_element(By.ID,\"id-search-field\")\n",
    "search_bar.send_keys(\"getting started with python\")\n",
    "search_bar.send_keys(Keys.RETURN)\n",
    "\n",
    "\n",
    "\n",
    "# submit = driver.find_element(By.NAME,\"submit\") #Name \n",
    "# submit.click()\n",
    "\n",
    "# submit = driver.find_element(By.XPATH,'//*[@id=\"submit\"]') #Xpath\n",
    "# submit.click()\n",
    "\n",
    "print(driver.title)\n",
    "print(driver.current_url)\n",
    "\n",
    "# driver.close() #close tab\n",
    "# driver.quit() #close window\n"
   ]
  },
  {
   "cell_type": "markdown",
   "metadata": {},
   "source": [
    "#### Sort By tag"
   ]
  },
  {
   "cell_type": "code",
   "execution_count": 29,
   "metadata": {},
   "outputs": [
    {
     "name": "stdout",
     "output_type": "stream",
     "text": [
      "Welcome\n",
      "---\n",
      "Site content goes here.\n",
      "---\n",
      "Site content goes here.\n",
      "Site content goes here. line 2\n"
     ]
    }
   ],
   "source": [
    "from selenium import webdriver\n",
    "from selenium.webdriver.common.by import By\n",
    "from selenium.webdriver.common.keys import Keys\n",
    "\n",
    "driver = webdriver.Chrome()\n",
    "\n",
    "driver.get(\"D:\\\\NMB-Traning_Python\\src\\html\\main.html\")\n",
    "\n",
    "element = driver.find_element(By.TAG_NAME,\"h1\")\n",
    "print(element.text)\n",
    "\n",
    "print(\"---\")\n",
    "element = driver.find_element(By.TAG_NAME,\"p\")\n",
    "print(element.text)\n",
    "\n",
    "print(\"---\")\n",
    "elements = driver.find_elements(By.TAG_NAME,\"p\")\n",
    "for element in elements:\n",
    "    print(element.text)\n",
    "\n"
   ]
  },
  {
   "cell_type": "code",
   "execution_count": 39,
   "metadata": {},
   "outputs": [
    {
     "name": "stdout",
     "output_type": "stream",
     "text": [
      "---\n",
      "Continue\n",
      "Cancel\n"
     ]
    }
   ],
   "source": [
    "driver = webdriver.Chrome()\n",
    "\n",
    "driver.get(\"D:\\\\NMB-Traning_Python\\src\\html\\main.html\")\n",
    "\n",
    "# continue_page = driver.find_element(By.XPATH,'/html/body/a[1]') #Xpath\n",
    "# continue_page.click()\n",
    "\n",
    "cancel = driver.find_element(By.XPATH,'/html/body/a[2]') #Xpath\n",
    "cancel.click()\n",
    "\n",
    "# print(\"---\")\n",
    "# elements = driver.find_elements(By.TAG_NAME,\"a\")\n",
    "# for i in elements:\n",
    "#     print(i.text)\n",
    "#     if i.text == \"continue\":\n",
    "#         i.click()"
   ]
  },
  {
   "cell_type": "markdown",
   "metadata": {},
   "source": [
    "### Login"
   ]
  },
  {
   "cell_type": "code",
   "execution_count": 43,
   "metadata": {},
   "outputs": [],
   "source": [
    "from selenium import webdriver\n",
    "from selenium.webdriver.common.by import By\n",
    "from selenium.webdriver.common.keys import Keys\n",
    "\n",
    "driver = webdriver.Chrome()\n",
    "\n",
    "driver.get(\"D:\\\\NMB-Traning_Python\\src\\html\\login.html\")\n",
    "\n",
    "username = driver.find_element(By.NAME,\"username\")\n",
    "username.send_keys(\"helloworld\")\n",
    "\n",
    "\n",
    "password = driver.find_element(By.NAME,\"password\")\n",
    "password.send_keys(\"123456\")\n",
    "\n",
    "\n",
    "submit = driver.find_element(By.NAME,\"submit\") #Xpath\n",
    "submit.click()"
   ]
  },
  {
   "cell_type": "markdown",
   "metadata": {},
   "source": [
    "### Switch new window"
   ]
  },
  {
   "cell_type": "code",
   "execution_count": 56,
   "metadata": {},
   "outputs": [],
   "source": [
    "from selenium import webdriver\n",
    "from selenium.webdriver.common.by import By\n",
    "from selenium.webdriver.common.keys import Keys\n",
    "\n",
    "driver = webdriver.Chrome()\n",
    "\n",
    "driver.get(\"D:\\\\NMB-Traning_Python\\src\\html\\main.html\")\n",
    "\n",
    "# continue_link = driver.find_element(By.PARTIAL_LINK_TEXT,\"Continue\")\n",
    "# continue_link.click()\n",
    "\n",
    "# cancel_link = driver.find_element(By.PARTIAL_LINK_TEXT,\"Cancel\")\n",
    "# cancel_link.click()\n",
    "\n",
    "newtab_link = driver.find_element(By.PARTIAL_LINK_TEXT,\"Continue with new tab\")\n",
    "newtab_link.click()\n",
    "\n",
    "driver.switch_to.window(driver.window_handles[0])\n",
    "# driver.switch_to.window(driver.window_handles[1])"
   ]
  },
  {
   "cell_type": "markdown",
   "metadata": {},
   "source": [
    "## Alert"
   ]
  },
  {
   "cell_type": "code",
   "execution_count": 60,
   "metadata": {},
   "outputs": [],
   "source": [
    "from selenium import webdriver\n",
    "from selenium.webdriver.common.by import By\n",
    "import time\n",
    "\n",
    "driver = webdriver.Chrome()\n",
    "\n",
    "driver.get(\"D:\\\\NMB-Traning_Python\\src\\html\\main.html\")\n",
    "\n",
    "alert = driver.find_element(By.XPATH,'/html/body/button[1]') #Xpath\n",
    "alert.click()\n",
    "\n",
    "alert_popup = driver.switch_to.alert\n",
    "time.sleep(2)\n",
    "alert_popup.accept()"
   ]
  },
  {
   "cell_type": "code",
   "execution_count": 65,
   "metadata": {},
   "outputs": [],
   "source": [
    "from selenium import webdriver\n",
    "from selenium.webdriver.common.by import By\n",
    "import time\n",
    "\n",
    "driver = webdriver.Chrome()\n",
    "\n",
    "driver.get(\"D:\\\\NMB-Traning_Python\\src\\html\\main.html\")\n",
    "\n",
    "alert_yesno = driver.find_element(By.XPATH,'/html/body/button[2]') #Xpath\n",
    "alert_yesno.click()\n",
    "\n",
    "alert_popup = driver.switch_to.alert\n",
    "time.sleep(2)\n",
    "# alert_popup.accept() #ok\n"
   ]
  },
  {
   "cell_type": "markdown",
   "metadata": {},
   "source": [
    "#### alert\n",
    "alert = driver.switch_to.alert\n",
    "- alert_obj.accept() – used to accept the Alert\n",
    "- alert_obj.dismiss() – used to cancel the Alert\n",
    "- alert.send_keys() – used to enter a value in the Alert text box.\n",
    "- alert.text() – used to retrieve the message included in the Alert pop-up."
   ]
  },
  {
   "cell_type": "markdown",
   "metadata": {},
   "source": [
    "### Date picker"
   ]
  },
  {
   "cell_type": "code",
   "execution_count": 68,
   "metadata": {},
   "outputs": [],
   "source": [
    "from selenium import webdriver\n",
    "from selenium.webdriver.common.by import By\n",
    "\n",
    "driver = webdriver.Chrome()\n",
    "\n",
    "driver.get(\"D:\\\\NMB-Traning_Python\\src\\html\\main.html\")\n",
    "\n",
    "datefiel = driver.find_element(By.ID,\"birthday\")\n",
    "datefiel.send_keys(\"18102023\")"
   ]
  },
  {
   "cell_type": "markdown",
   "metadata": {},
   "source": [
    "### Excample"
   ]
  },
  {
   "cell_type": "code",
   "execution_count": 92,
   "metadata": {},
   "outputs": [
    {
     "name": "stdout",
     "output_type": "stream",
     "text": [
      "Sign in - ICIT ACCOUNT\n",
      "https://account.kmutnb.ac.th/web/user/login\n"
     ]
    }
   ],
   "source": [
    "from selenium import webdriver\n",
    "from selenium.webdriver.common.by import By\n",
    "from selenium.webdriver.common.keys import Keys\n",
    "\n",
    "driver = webdriver.Chrome()\n",
    "driver.implicitly_wait(20)\n",
    "\n",
    "driver.get(\"https://account.kmutnb.ac.th/web/user/login\")\n",
    "# username = driver.find_element(By.ID,\"loginform-username\")\n",
    "# username.send_keys(\"\")\n",
    "\n",
    "# password = driver.find_element(By.ID,\"loginform-password\")\n",
    "# password.send_keys(\"\")\n",
    "\n",
    "# submit = driver.find_element(By.XPATH,'//*[@id=\"w0\"]/div[3]/button')\n",
    "# submit.click()\n",
    "\n",
    "survey_form = driver.find_element(By.XPATH,'/html/body/div[1]/aside/section/ul/li[10]/a')\n",
    "survey_form.click()\n",
    "\n",
    "\n",
    "\n",
    "print(driver.title)\n",
    "print(driver.current_url)\n",
    "\n"
   ]
  }
 ],
 "metadata": {
  "kernelspec": {
   "display_name": "Python 3",
   "language": "python",
   "name": "python3"
  },
  "language_info": {
   "codemirror_mode": {
    "name": "ipython",
    "version": 3
   },
   "file_extension": ".py",
   "mimetype": "text/x-python",
   "name": "python",
   "nbconvert_exporter": "python",
   "pygments_lexer": "ipython3",
   "version": "3.10.13"
  }
 },
 "nbformat": 4,
 "nbformat_minor": 2
}
