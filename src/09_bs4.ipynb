{
 "cells": [
  {
   "cell_type": "markdown",
   "metadata": {},
   "source": [
    "## bs4"
   ]
  },
  {
   "cell_type": "code",
   "execution_count": 2,
   "metadata": {},
   "outputs": [],
   "source": [
    "# !pip install bs4"
   ]
  },
  {
   "cell_type": "code",
   "execution_count": 3,
   "metadata": {},
   "outputs": [],
   "source": [
    "import bs4\n",
    "import requests"
   ]
  },
  {
   "cell_type": "code",
   "execution_count": 4,
   "metadata": {},
   "outputs": [],
   "source": [
    "def check_cord(date_check,day_name):\n",
    "  data = requests.get(f\"https://lopburibadminton.com/?sltd={date_check}\")\n",
    "  #print(f\"https://lopburibadminton.com/?sltd={date_check}\")\n",
    "  soup = bs4.BeautifulSoup(data.text)\n",
    "  cord = soup.find('div',{'class':'bookingTable'})\n",
    "  free_1800 = cord.find('img',{'src':'timeimg/1800.png'})\n",
    "  if free_1800 != None:\n",
    "    return print(f'มีคอร์ด 6 โมงเย็น ว่างวัน {day_name} ที่ {date_check}')\n",
    "  free_1900 = cord.find('img',{'src':'timeimg/1900.png'})\n",
    "  if free_1900 != None:\n",
    "    return print(f'มีคอร์ด 1 ทุ่ม ว่างวัน {day_name} ที่ {date_check}')"
   ]
  },
  {
   "cell_type": "code",
   "execution_count": 5,
   "metadata": {},
   "outputs": [
    {
     "name": "stdout",
     "output_type": "stream",
     "text": [
      "มีคอร์ด 6 โมงเย็น ว่างวัน Monday ที่ 2023-12-04\n",
      "มีคอร์ด 6 โมงเย็น ว่างวัน Tuesday ที่ 2023-12-05\n",
      "มีคอร์ด 6 โมงเย็น ว่างวัน Wednesday ที่ 2023-12-06\n",
      "มีคอร์ด 6 โมงเย็น ว่างวัน Monday ที่ 2023-12-11\n",
      "มีคอร์ด 6 โมงเย็น ว่างวัน Wednesday ที่ 2023-12-13\n",
      "มีคอร์ด 6 โมงเย็น ว่างวัน Monday ที่ 2023-12-18\n",
      "มีคอร์ด 6 โมงเย็น ว่างวัน Tuesday ที่ 2023-12-19\n",
      "มีคอร์ด 6 โมงเย็น ว่างวัน Monday ที่ 2023-12-25\n",
      "มีคอร์ด 6 โมงเย็น ว่างวัน Tuesday ที่ 2023-12-26\n"
     ]
    }
   ],
   "source": [
    "import pandas as pd\n",
    "import pandas as pd\n",
    "from datetime import date, timedelta\n",
    "\n",
    "#sdate = date(2023,7,1)   # start date\n",
    "#edate = date(2023,12,31)   # end date\n",
    "\n",
    "sdate = date(2023,12,1)   # start date\n",
    "edate = date(2023,12,30)   # end date\n",
    "\n",
    "date_range = pd.date_range(sdate,edate-timedelta(days=1),freq='d')\n",
    "df = pd.DataFrame(date_range)\n",
    "df['Date'] = pd.to_datetime(df[0]).dt.date\n",
    "df['Date'] = pd.to_datetime(df['Date'])\n",
    "df['day_of_week'] = df['Date'].dt.day_name()\n",
    "df_drop_friday = df[df['day_of_week']!='Friday']\n",
    "df_drop_sat = df_drop_friday[df_drop_friday['day_of_week']!='Saturday']\n",
    "df_drop_weekend = df_drop_sat[df_drop_sat['day_of_week']!='Sunday']\n",
    "df_final = df_drop_weekend.reset_index()\n",
    "df_final = df_final.drop(columns=['index'])\n",
    "\n",
    "for i in range(len(df_final)):\n",
    "  date_check = str(df_final['Date'][i])\n",
    "  date_check = date_check.split(\" \")[0]\n",
    "  day_name = str(df_final['day_of_week'][i])\n",
    "  check_cord(date_check,day_name)"
   ]
  }
 ],
 "metadata": {
  "kernelspec": {
   "display_name": "Python 3",
   "language": "python",
   "name": "python3"
  },
  "language_info": {
   "codemirror_mode": {
    "name": "ipython",
    "version": 3
   },
   "file_extension": ".py",
   "mimetype": "text/x-python",
   "name": "python",
   "nbconvert_exporter": "python",
   "pygments_lexer": "ipython3",
   "version": "3.10.13"
  }
 },
 "nbformat": 4,
 "nbformat_minor": 2
}
