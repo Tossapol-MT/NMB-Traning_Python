{
 "cells": [
  {
   "cell_type": "markdown",
   "metadata": {},
   "source": [
    "# Basic_Python"
   ]
  },
  {
   "cell_type": "markdown",
   "metadata": {},
   "source": [
    "#### Variables"
   ]
  },
  {
   "cell_type": "code",
   "execution_count": 1,
   "metadata": {},
   "outputs": [
    {
     "name": "stdout",
     "output_type": "stream",
     "text": [
      "Hello World\n",
      "Hello World1\n",
      "Hello World2\n"
     ]
    }
   ],
   "source": [
    "print(\"Hello World\")\n",
    "\n",
    "msg = \"Hello World1\"\n",
    "print(msg)\n",
    "\n",
    "msg = \"Hello World2\"\n",
    "print(msg)"
   ]
  },
  {
   "cell_type": "code",
   "execution_count": 2,
   "metadata": {},
   "outputs": [],
   "source": [
    "n = \"Tossapol\"\n",
    "name = \"Tossapol\"\n",
    "first_name = \"Tossapol\"\n",
    "firstname = \"Tossapol\""
   ]
  },
  {
   "cell_type": "code",
   "execution_count": 3,
   "metadata": {},
   "outputs": [
    {
     "name": "stdout",
     "output_type": "stream",
     "text": [
      "emp_no\n"
     ]
    }
   ],
   "source": [
    "#Excemple employee number\n",
    "emp_no = \"LE141\"\n",
    "print(\"emp_no\")"
   ]
  },
  {
   "cell_type": "markdown",
   "metadata": {},
   "source": [
    "#### Data Type"
   ]
  },
  {
   "cell_type": "markdown",
   "metadata": {},
   "source": [
    "##### String"
   ]
  },
  {
   "cell_type": "code",
   "execution_count": 4,
   "metadata": {},
   "outputs": [
    {
     "name": "stdout",
     "output_type": "stream",
     "text": [
      "This's easy to learn python\n",
      "This\"s easy to learn python\n"
     ]
    },
    {
     "data": {
      "text/plain": [
       "str"
      ]
     },
     "execution_count": 4,
     "metadata": {},
     "output_type": "execute_result"
    }
   ],
   "source": [
    "msg = \"Hello World\"\n",
    "msg = 'Hello World'\n",
    "\n",
    "print(\"This's easy to learn python\")\n",
    "print('This\"s easy to learn python')\n",
    "\n",
    "type(msg)"
   ]
  },
  {
   "cell_type": "code",
   "execution_count": 5,
   "metadata": {},
   "outputs": [
    {
     "name": "stdout",
     "output_type": "stream",
     "text": [
      "HelloWorld\n",
      "Hello World\n",
      "Hello World Python\n",
      "Hello World\n",
      "Hello World Python\n"
     ]
    }
   ],
   "source": [
    "msg = \"Hello\"\n",
    "msg2 = \"World\"\n",
    "\n",
    "print(msg+msg2)\n",
    "print(msg+\" \"+msg2)\n",
    "print(msg+\" \"+msg2+ \" Python\")\n",
    "\n",
    "#f-String function\n",
    "print(f'{msg} {msg2}')\n",
    "print(f'{msg} {msg2} Python')"
   ]
  },
  {
   "cell_type": "code",
   "execution_count": 6,
   "metadata": {},
   "outputs": [
    {
     "name": "stdout",
     "output_type": "stream",
     "text": [
      "python\n",
      "PYTHON\n"
     ]
    }
   ],
   "source": [
    "print(\"PYTHON\".lower())\n",
    "print(\"python\".upper())"
   ]
  },
  {
   "cell_type": "markdown",
   "metadata": {},
   "source": [
    "#### Numberic"
   ]
  },
  {
   "cell_type": "code",
   "execution_count": 7,
   "metadata": {},
   "outputs": [
    {
     "name": "stdout",
     "output_type": "stream",
     "text": [
      "41\n"
     ]
    }
   ],
   "source": [
    "msg = \"4\"\n",
    "type(msg)\n",
    "print(msg+\"1\")"
   ]
  },
  {
   "cell_type": "code",
   "execution_count": 8,
   "metadata": {},
   "outputs": [
    {
     "name": "stdout",
     "output_type": "stream",
     "text": [
      "5\n"
     ]
    }
   ],
   "source": [
    "msg = 4\n",
    "type(msg)\n",
    "print(msg+1)"
   ]
  },
  {
   "cell_type": "code",
   "execution_count": 9,
   "metadata": {},
   "outputs": [
    {
     "name": "stdout",
     "output_type": "stream",
     "text": [
      "6\n"
     ]
    }
   ],
   "source": [
    "msg = \"4\"\n",
    "msg1 = int(msg)\n",
    "type(msg1)\n",
    "print(msg1+2)"
   ]
  },
  {
   "cell_type": "code",
   "execution_count": 10,
   "metadata": {},
   "outputs": [
    {
     "name": "stdout",
     "output_type": "stream",
     "text": [
      "<class 'float'>\n",
      "7.2\n",
      "<class 'float'>\n",
      "7\n"
     ]
    }
   ],
   "source": [
    "#float\n",
    "msg = 3.2\n",
    "print(type(msg))\n",
    "print(4+msg)\n",
    "print(type(4+msg))\n",
    "\n",
    "print(round(4+msg))"
   ]
  },
  {
   "cell_type": "markdown",
   "metadata": {},
   "source": [
    "#### Operator"
   ]
  },
  {
   "cell_type": "code",
   "execution_count": 11,
   "metadata": {},
   "outputs": [
    {
     "name": "stdout",
     "output_type": "stream",
     "text": [
      "7\n",
      "-1\n",
      "12\n",
      "0.75\n",
      "3\n",
      "81\n"
     ]
    }
   ],
   "source": [
    "print(3+4)\n",
    "print(3-4)\n",
    "print(3*4)\n",
    "print(3/4)\n",
    "print(3%4)\n",
    "print(3**4)\n"
   ]
  },
  {
   "cell_type": "markdown",
   "metadata": {},
   "source": [
    "# Data Structures"
   ]
  },
  {
   "cell_type": "markdown",
   "metadata": {},
   "source": [
    "### List"
   ]
  },
  {
   "cell_type": "code",
   "execution_count": 12,
   "metadata": {},
   "outputs": [
    {
     "name": "stdout",
     "output_type": "stream",
     "text": [
      "<class 'str'>\n",
      "<class 'list'>\n"
     ]
    }
   ],
   "source": [
    "file_name = \"one.xlsx\"\n",
    "file_names = [\"one.xlsx\",\"two.xlsx\",\"three.xlsx\"]\n",
    "file_names = [1,2,3,4]\n",
    "file_names = [\"one.xlsx\",2,\"three.xlsx\"]\n",
    "print(type(file_name))\n",
    "print(type(file_names))"
   ]
  },
  {
   "cell_type": "code",
   "execution_count": 13,
   "metadata": {},
   "outputs": [
    {
     "name": "stdout",
     "output_type": "stream",
     "text": [
      "['one.xlsx', 2, 'three.xlsx']\n",
      "three.xlsx\n",
      "<class 'str'>\n",
      "three.xlsx\n",
      "2\n",
      "one.xlsx\n"
     ]
    }
   ],
   "source": [
    "#index\n",
    "print(file_names)\n",
    "print(file_names[2])\n",
    "print(type(file_names[2]))\n",
    "\n",
    "#reverse index\n",
    "print(file_names[-1])\n",
    "print(file_names[-2])\n",
    "print(file_names[-3])\n"
   ]
  },
  {
   "cell_type": "code",
   "execution_count": 14,
   "metadata": {},
   "outputs": [
    {
     "name": "stdout",
     "output_type": "stream",
     "text": [
      "['one.xlsx']\n",
      "['one.xlsx', 2]\n",
      "['one.xlsx', 2, 'three.xlsx']\n",
      "['one.xlsx', 2]\n",
      "['one.xlsx']\n",
      "['one.xlsx']\n",
      "['one.xlsx', 2]\n",
      "['one.xlsx', 2, 'three.xlsx']\n",
      "['one.xlsx', 2, 'three.xlsx']\n"
     ]
    }
   ],
   "source": [
    "#slice\n",
    "print(file_names[0:1]) #ตัวเริ่มต้น : เอาออกมา 1 ตัว จาก list\n",
    "print(file_names[0:2]) #ตัวเริ่มต้น : เอาออกมา 2 ตัว จาก list\n",
    "print(file_names[0:3]) #ตัวเริ่มต้น : เอาออกมา 3 ตัว จาก list\n",
    "\n",
    "print(file_names[0:-1])\n",
    "print(file_names[0:-2])\n",
    "\n",
    "print(file_names[:1])\n",
    "print(file_names[:2])\n",
    "print(file_names[0:])\n",
    "print(file_names[:]) #เลือกท้ั้งหมดใน list"
   ]
  },
  {
   "cell_type": "markdown",
   "metadata": {},
   "source": [
    "#### Dictionaries"
   ]
  },
  {
   "cell_type": "code",
   "execution_count": 15,
   "metadata": {},
   "outputs": [
    {
     "name": "stdout",
     "output_type": "stream",
     "text": [
      "<class 'dict'>\n",
      "1.1152\n",
      "1.2452\n",
      "0.6161\n"
     ]
    }
   ],
   "source": [
    "exchange_rates = {\"EURUSD\": 1.1152, \"GBPUSD\": 1.2452, \"AUDUSD\": 0.6161}\n",
    "print(type(exchange_rates))\n",
    "\n",
    "print(exchange_rates[\"EURUSD\"])\n",
    "print(exchange_rates[\"GBPUSD\"])\n",
    "print(exchange_rates[\"AUDUSD\"])"
   ]
  },
  {
   "cell_type": "markdown",
   "metadata": {},
   "source": [
    "### Tuple"
   ]
  },
  {
   "cell_type": "code",
   "execution_count": 16,
   "metadata": {},
   "outputs": [
    {
     "name": "stdout",
     "output_type": "stream",
     "text": [
      "<class 'tuple'>\n",
      "<class 'list'>\n",
      "['EUR', 'GBP', 'AUD', 'XUD']\n"
     ]
    }
   ],
   "source": [
    "currencies = (\"EUR\", \"GBP\", \"AUD\")\n",
    "print(type(currencies))\n",
    "\n",
    "list_currencies = [\"EUR\", \"GBP\", \"AUD\"]\n",
    "print(type(list_currencies))\n",
    "\n",
    "list_currencies.append(\"XUD\")\n",
    "print(list_currencies)\n",
    "\n",
    "# currencies.append(\"XUD\")\n",
    "# print(currencies)"
   ]
  },
  {
   "cell_type": "markdown",
   "metadata": {},
   "source": [
    "## Control Flow"
   ]
  },
  {
   "cell_type": "markdown",
   "metadata": {},
   "source": [
    "#### if statement"
   ]
  },
  {
   "cell_type": "code",
   "execution_count": 17,
   "metadata": {},
   "outputs": [
    {
     "name": "stdout",
     "output_type": "stream",
     "text": [
      "False\n",
      "True\n"
     ]
    }
   ],
   "source": [
    "i=6\n",
    "print(i<5)\n",
    "print(i>5)\n",
    "\n",
    "# ==, <, >, !=, >=, <="
   ]
  },
  {
   "cell_type": "code",
   "execution_count": 18,
   "metadata": {},
   "outputs": [
    {
     "name": "stdout",
     "output_type": "stream",
     "text": [
      "I is smaller than 5\n"
     ]
    }
   ],
   "source": [
    "i = 2\n",
    "\n",
    "if i < 5:\n",
    "    print(\"I is smaller than 5\")"
   ]
  },
  {
   "cell_type": "code",
   "execution_count": 19,
   "metadata": {},
   "outputs": [
    {
     "name": "stdout",
     "output_type": "stream",
     "text": [
      "I is between 10 and 15\n"
     ]
    }
   ],
   "source": [
    "i = 14\n",
    "\n",
    "if i<5:\n",
    "    print(\"I is smaller than 5\")\n",
    "elif i <= 10:\n",
    "    print(\"I in between 5 and 10\")\n",
    "elif i<= 15:\n",
    "    print(\"I is between 10 and 15\")\n",
    "else:\n",
    "    print(\"Out of range\")"
   ]
  },
  {
   "cell_type": "markdown",
   "metadata": {},
   "source": [
    "#### For loop"
   ]
  },
  {
   "cell_type": "code",
   "execution_count": 20,
   "metadata": {},
   "outputs": [
    {
     "data": {
      "text/plain": [
       "'AUD'"
      ]
     },
     "execution_count": 20,
     "metadata": {},
     "output_type": "execute_result"
    }
   ],
   "source": [
    "currencies = [\"USD\", \"HKD\", \"AUD\"]\n",
    "currencies[0]\n",
    "currencies[1]\n",
    "currencies[2]"
   ]
  },
  {
   "cell_type": "code",
   "execution_count": 21,
   "metadata": {},
   "outputs": [
    {
     "name": "stdout",
     "output_type": "stream",
     "text": [
      "USD\n",
      "HKD\n",
      "AUD\n"
     ]
    }
   ],
   "source": [
    "for currencie in currencies:\n",
    "    print(currencie)"
   ]
  },
  {
   "cell_type": "code",
   "execution_count": 22,
   "metadata": {},
   "outputs": [
    {
     "name": "stdout",
     "output_type": "stream",
     "text": [
      "HKD\n"
     ]
    }
   ],
   "source": [
    "for currencie in currencies:\n",
    "    if currencie == \"HKD\":\n",
    "        print(currencie)"
   ]
  },
  {
   "cell_type": "code",
   "execution_count": 23,
   "metadata": {},
   "outputs": [
    {
     "name": "stdout",
     "output_type": "stream",
     "text": [
      "USD\n",
      "AUD\n"
     ]
    }
   ],
   "source": [
    "for currencie in currencies:\n",
    "    if currencie != \"HKD\":\n",
    "        print(currencie)"
   ]
  },
  {
   "cell_type": "code",
   "execution_count": 24,
   "metadata": {},
   "outputs": [
    {
     "name": "stdout",
     "output_type": "stream",
     "text": [
      "1.1152\n",
      "1.2452\n",
      "0.6161\n"
     ]
    }
   ],
   "source": [
    "exhange_rates = {\"EURUSD\":1.1152,\"GBPUSD\":1.2452,\"AUDUSD\":0.6161}\n",
    "\n",
    "for exchange_rate in exchange_rates.values():\n",
    "    print(exchange_rate)"
   ]
  },
  {
   "cell_type": "markdown",
   "metadata": {},
   "source": [
    "#### Loop Structure"
   ]
  },
  {
   "cell_type": "code",
   "execution_count": 25,
   "metadata": {},
   "outputs": [
    {
     "name": "stdout",
     "output_type": "stream",
     "text": [
      "0\n",
      "1\n",
      "2\n",
      "3\n",
      "4\n"
     ]
    }
   ],
   "source": [
    "for i in range(5):\n",
    "    print(i)"
   ]
  },
  {
   "cell_type": "code",
   "execution_count": 26,
   "metadata": {},
   "outputs": [
    {
     "name": "stdout",
     "output_type": "stream",
     "text": [
      "0\n",
      "1\n",
      "2\n",
      "3\n",
      "4\n"
     ]
    }
   ],
   "source": [
    "for i in range(10):\n",
    "    if i == 5:\n",
    "        break\n",
    "    else:\n",
    "        print(i)"
   ]
  },
  {
   "cell_type": "code",
   "execution_count": 27,
   "metadata": {},
   "outputs": [
    {
     "name": "stdout",
     "output_type": "stream",
     "text": [
      "0\n",
      "1\n",
      "2\n",
      "3\n",
      "4\n",
      "6\n",
      "7\n",
      "8\n",
      "9\n"
     ]
    }
   ],
   "source": [
    "for i in range(10):\n",
    "    if i == 5:\n",
    "        continue #ข้ามเงื่อนไขพพพ\n",
    "    else:\n",
    "        print(i)"
   ]
  },
  {
   "cell_type": "markdown",
   "metadata": {},
   "source": [
    "# Special Function"
   ]
  },
  {
   "cell_type": "markdown",
   "metadata": {},
   "source": [
    "### Try Except"
   ]
  },
  {
   "cell_type": "code",
   "execution_count": 28,
   "metadata": {},
   "outputs": [
    {
     "name": "stdout",
     "output_type": "stream",
     "text": [
      "Error\n"
     ]
    }
   ],
   "source": [
    "try:\n",
    "    msg = \"Hello World\"\n",
    "    int (msg)\n",
    "except:\n",
    "    print(\"Error\")"
   ]
  },
  {
   "cell_type": "code",
   "execution_count": 29,
   "metadata": {},
   "outputs": [
    {
     "name": "stdout",
     "output_type": "stream",
     "text": [
      "Error invalid literal for int() with base 10: 'Hello World'\n"
     ]
    }
   ],
   "source": [
    "try:\n",
    "    msg = \"Hello World\"\n",
    "    int (msg)\n",
    "except Exception as e:\n",
    "    print(f\"Error {e}\")"
   ]
  },
  {
   "cell_type": "markdown",
   "metadata": {},
   "source": [
    "## Split"
   ]
  },
  {
   "cell_type": "code",
   "execution_count": 30,
   "metadata": {},
   "outputs": [
    {
     "name": "stdout",
     "output_type": "stream",
     "text": [
      "test\n",
      "txt\n"
     ]
    }
   ],
   "source": [
    "msg = \"test.txt\"\n",
    "\n",
    "list_msg = msg.split(\".\")\n",
    "print(list_msg[0])\n",
    "print(list_msg[1])"
   ]
  },
  {
   "cell_type": "code",
   "execution_count": 31,
   "metadata": {},
   "outputs": [
    {
     "name": "stdout",
     "output_type": "stream",
     "text": [
      "nat\n",
      "gd\n",
      "ic02r\n"
     ]
    }
   ],
   "source": [
    "msg = \"nat_mcstatus_gd_ic02r.txt\"\n",
    "division = msg.split(\"_\")\n",
    "process = msg.split(\"_\")\n",
    "mc_name = msg.split(\"_\")\n",
    "\n",
    "print(division[0])\n",
    "print(process[2])\n",
    "print(mc_name[3].split(\".\")[0])\n"
   ]
  },
  {
   "cell_type": "code",
   "execution_count": 32,
   "metadata": {},
   "outputs": [
    {
     "name": "stdout",
     "output_type": "stream",
     "text": [
      "nat\n",
      "gd\n",
      "ic02r\n"
     ]
    }
   ],
   "source": [
    "import re\n",
    "msg = \"nat_mcstatus_gd_ic02r.txt\"\n",
    "space = r\"[_.]\"\n",
    "txt = (re.split(space,msg))\n",
    "\n",
    "division = txt[0]\n",
    "process = txt[2]\n",
    "mc_name = txt[3]\n",
    "\n",
    "print(division)\n",
    "print(process)\n",
    "print(mc_name)"
   ]
  },
  {
   "cell_type": "markdown",
   "metadata": {},
   "source": [
    "## Len"
   ]
  },
  {
   "cell_type": "code",
   "execution_count": 33,
   "metadata": {},
   "outputs": [
    {
     "data": {
      "text/plain": [
       "5"
      ]
     },
     "execution_count": 33,
     "metadata": {},
     "output_type": "execute_result"
    }
   ],
   "source": [
    "msg = \"Hello\"\n",
    "len(msg)"
   ]
  },
  {
   "cell_type": "markdown",
   "metadata": {},
   "source": [
    "## Strip"
   ]
  },
  {
   "cell_type": "code",
   "execution_count": 34,
   "metadata": {},
   "outputs": [
    {
     "name": "stdout",
     "output_type": "stream",
     "text": [
      "6\n",
      "5\n"
     ]
    }
   ],
   "source": [
    "msg = \"Hello \"\n",
    "len(msg)\n",
    "print(len(msg))\n",
    "msg = msg.strip()\n",
    "print(len(msg))"
   ]
  },
  {
   "cell_type": "markdown",
   "metadata": {},
   "source": [
    "# Function"
   ]
  },
  {
   "cell_type": "code",
   "execution_count": 35,
   "metadata": {},
   "outputs": [
    {
     "name": "stdout",
     "output_type": "stream",
     "text": [
      "Hello World\n"
     ]
    }
   ],
   "source": [
    "#function\n",
    "def test():\n",
    "    #For print Hello world\n",
    "    print(\"Hello World\")\n",
    "\n",
    "test()"
   ]
  },
  {
   "cell_type": "code",
   "execution_count": 36,
   "metadata": {},
   "outputs": [
    {
     "name": "stdout",
     "output_type": "stream",
     "text": [
      "25\n"
     ]
    }
   ],
   "source": [
    "def calculation_plus():\n",
    "    #plus digit\n",
    "    digit_1 = 10\n",
    "    digit_2 = 15\n",
    "    result = digit_1+digit_2\n",
    "    print(result)\n",
    "\n",
    "calculation_plus()"
   ]
  },
  {
   "cell_type": "code",
   "execution_count": 37,
   "metadata": {},
   "outputs": [
    {
     "name": "stdout",
     "output_type": "stream",
     "text": [
      "46\n",
      "26\n",
      "45\n"
     ]
    }
   ],
   "source": [
    "def calculation_plus(digit_1, digit_2):\n",
    "    #plus digit\n",
    "    result = digit_1+digit_2\n",
    "    print(result)\n",
    "\n",
    "calculation_plus(25,21)\n",
    "calculation_plus(25,1)\n",
    "calculation_plus(25,20)"
   ]
  },
  {
   "cell_type": "code",
   "execution_count": 38,
   "metadata": {},
   "outputs": [
    {
     "name": "stdout",
     "output_type": "stream",
     "text": [
      "4\n",
      "24\n",
      "5\n"
     ]
    }
   ],
   "source": [
    "def calculation_minus(digit_1, digit_2):\n",
    "    #minus digit\n",
    "    result = digit_1-digit_2\n",
    "    print(result)\n",
    "\n",
    "calculation_minus(25,21)\n",
    "calculation_minus(25,1)\n",
    "calculation_minus(25,20)"
   ]
  },
  {
   "cell_type": "code",
   "execution_count": 39,
   "metadata": {},
   "outputs": [
    {
     "data": {
      "text/plain": [
       "-5"
      ]
     },
     "execution_count": 39,
     "metadata": {},
     "output_type": "execute_result"
    }
   ],
   "source": [
    "def calculation_minus(digit_1, digit_2):\n",
    "    #minus digit\n",
    "    result = digit_1-digit_2\n",
    "    #print(result)\n",
    "    return result\n",
    "\n",
    "calculation_minus(digit_2=25,digit_1=21)\n",
    "calculation_minus(25,1)\n",
    "calculation_minus(digit_2=25,digit_1=20)\n",
    "calculation_minus(calculation_minus(digit_2=25,digit_1=21),1)"
   ]
  },
  {
   "cell_type": "markdown",
   "metadata": {},
   "source": [
    "# Module"
   ]
  },
  {
   "cell_type": "code",
   "execution_count": 40,
   "metadata": {},
   "outputs": [
    {
     "name": "stdout",
     "output_type": "stream",
     "text": [
      "68\n"
     ]
    }
   ],
   "source": [
    "import calculation\n",
    "\n",
    "# print(calculation.calculation_minus(45,23))\n",
    "print(calculation.calculation_plus(45,23))"
   ]
  },
  {
   "cell_type": "code",
   "execution_count": 41,
   "metadata": {},
   "outputs": [
    {
     "data": {
      "text/plain": [
       "19"
      ]
     },
     "execution_count": 41,
     "metadata": {},
     "output_type": "execute_result"
    }
   ],
   "source": [
    "import calculation as cal\n",
    "\n",
    "cal.calculation_minus(32,13)"
   ]
  },
  {
   "cell_type": "code",
   "execution_count": 42,
   "metadata": {},
   "outputs": [
    {
     "data": {
      "text/plain": [
       "19"
      ]
     },
     "execution_count": 42,
     "metadata": {},
     "output_type": "execute_result"
    }
   ],
   "source": [
    "from calculation import calculation_plus, calculation_minus\n",
    "calculation_plus(45,23)\n",
    "calculation_minus(32,13)"
   ]
  },
  {
   "cell_type": "code",
   "execution_count": 43,
   "metadata": {},
   "outputs": [
    {
     "name": "stdout",
     "output_type": "stream",
     "text": [
      "37.78\n",
      "-173.15\n",
      "Don't know a source\n",
      "37.78\n",
      "37.78\n",
      "Degree mistake\n",
      "37.78\n",
      "-173.15\n",
      "37.78\n"
     ]
    }
   ],
   "source": [
    "def convert_celsius(degrees,source=\"farenhite\"):\n",
    "    try:\n",
    "        if source.lower() == \"farenhite\":\n",
    "            result = round((float(degrees)-32)*(5/9),2)\n",
    "        elif source.lower() == \"kelvin\":\n",
    "            result = round((float(degrees)-273.15),2)\n",
    "        else:\n",
    "            result = \"Don't know a source\"\n",
    "        return result\n",
    "    except:\n",
    "        result = \"Degree mistake\"\n",
    "        return result\n",
    "\n",
    "print(convert_celsius(100,'farenhite'))\n",
    "print(convert_celsius(100,'kelvin'))\n",
    "print(convert_celsius(100,'farenhite1'))\n",
    "print(convert_celsius(float(\"100\"),'farenhite'))\n",
    "print(convert_celsius(\"100\",'farenhite'))\n",
    "print(convert_celsius(\"asdasd\",'farenhite'))\n",
    "print(convert_celsius(\"100\",'Farenhite'))\n",
    "print(convert_celsius(\"100\",'Kelvin'))\n",
    "print(convert_celsius(\"100\"))"
   ]
  }
 ],
 "metadata": {
  "kernelspec": {
   "display_name": "Python 3",
   "language": "python",
   "name": "python3"
  },
  "language_info": {
   "codemirror_mode": {
    "name": "ipython",
    "version": 3
   },
   "file_extension": ".py",
   "mimetype": "text/x-python",
   "name": "python",
   "nbconvert_exporter": "python",
   "pygments_lexer": "ipython3",
   "version": "3.10.9"
  }
 },
 "nbformat": 4,
 "nbformat_minor": 2
}
