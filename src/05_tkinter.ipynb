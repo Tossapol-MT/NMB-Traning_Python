{
 "cells": [
  {
   "cell_type": "markdown",
   "metadata": {},
   "source": [
    "# Tkinter"
   ]
  },
  {
   "cell_type": "code",
   "execution_count": 4,
   "metadata": {},
   "outputs": [],
   "source": [
    "# !pip install tk"
   ]
  },
  {
   "cell_type": "code",
   "execution_count": 43,
   "metadata": {},
   "outputs": [],
   "source": [
    "import tkinter as tk\n",
    "from tkinter import ttk\n",
    "\n",
    "def fahrenheit_to_celsius(f):\n",
    "    \"\"\"convert fahrenhite to celsius\"\"\"\n",
    "    result = round((f - 32) * 5/9,2)\n",
    "    return result\n",
    "\n",
    "def convert_button_clicked():\n",
    "    \"\"\"get temperature from entry then convert it\"\"\"\n",
    "    f = float(temperature.get())\n",
    "    c = fahrenheit_to_celsius(f)\n",
    "    result_label.config(text=c) #change value of result_label \n",
    "\n",
    "\n",
    "#setup frame\n",
    "window = tk.Tk()\n",
    "window.title(\"Temperature Convert\")\n",
    "window.geometry(\"300x70\")\n",
    "window.resizable(False,False)\n",
    "frame = ttk.Frame(window)\n",
    "\n",
    "#option\n",
    "options = {'padx':5, 'pady':5}\n",
    "\n",
    "#label\n",
    "temperature_label = ttk.Label(frame, text=\"Fahrenheit\")\n",
    "temperature_label.grid(column=0,row=0,**options)\n",
    "\n",
    "#input box\n",
    "temperature = tk.StringVar()\n",
    "temperature_input = ttk.Entry(frame,textvariable=temperature)\n",
    "temperature_input.grid(column=1,row=0,**options)\n",
    "\n",
    "#button\n",
    "convert_button = ttk.Button(frame,text='Convert')\n",
    "convert_button.grid(column=2,row=0,**options)\n",
    "convert_button.configure(command=convert_button_clicked)\n",
    "\n",
    "\n",
    "#result label\n",
    "result_label = ttk.Label(frame, text=\"Input temperature\")\n",
    "result_label.grid(columnspan=2,row=1,**options)\n",
    "\n",
    "# add grid\n",
    "frame.grid(pady=12,padx=7)\n",
    "\n",
    "#loop gui\n",
    "window.mainloop()"
   ]
  },
  {
   "cell_type": "code",
   "execution_count": 44,
   "metadata": {},
   "outputs": [
    {
     "name": "stdout",
     "output_type": "stream",
     "text": [
      "Collecting pyinstaller\n",
      "  Downloading pyinstaller-6.1.0-py3-none-win_amd64.whl.metadata (8.2 kB)\n",
      "Requirement already satisfied: setuptools>=42.0.0 in d:\\newenv\\lib\\site-packages (from pyinstaller) (68.0.0)\n",
      "Collecting altgraph (from pyinstaller)\n",
      "  Downloading altgraph-0.17.4-py2.py3-none-any.whl.metadata (7.3 kB)\n",
      "Collecting pyinstaller-hooks-contrib>=2021.4 (from pyinstaller)\n",
      "  Downloading pyinstaller_hooks_contrib-2023.10-py2.py3-none-any.whl.metadata (15 kB)\n",
      "Requirement already satisfied: packaging>=20.0 in d:\\newenv\\lib\\site-packages (from pyinstaller) (23.2)\n",
      "Collecting pefile>=2022.5.30 (from pyinstaller)\n",
      "  Downloading pefile-2023.2.7-py3-none-any.whl (71 kB)\n",
      "     ---------------------------------------- 0.0/71.8 kB ? eta -:--:--\n",
      "     ----- ---------------------------------- 10.2/71.8 kB ? eta -:--:--\n",
      "     ---------------- --------------------- 30.7/71.8 kB 435.7 kB/s eta 0:00:01\n",
      "     -------------------------------------- 71.8/71.8 kB 564.7 kB/s eta 0:00:00\n",
      "Collecting pywin32-ctypes>=0.2.1 (from pyinstaller)\n",
      "  Downloading pywin32_ctypes-0.2.2-py3-none-any.whl.metadata (3.8 kB)\n",
      "Downloading pyinstaller-6.1.0-py3-none-win_amd64.whl (1.3 MB)\n",
      "   ---------------------------------------- 0.0/1.3 MB ? eta -:--:--\n",
      "   --- ------------------------------------ 0.1/1.3 MB 2.4 MB/s eta 0:00:01\n",
      "   -------- ------------------------------- 0.3/1.3 MB 3.5 MB/s eta 0:00:01\n",
      "   ------------ --------------------------- 0.4/1.3 MB 3.1 MB/s eta 0:00:01\n",
      "   ---------------- ----------------------- 0.5/1.3 MB 2.7 MB/s eta 0:00:01\n",
      "   ------------------------ --------------- 0.8/1.3 MB 3.3 MB/s eta 0:00:01\n",
      "   ----------------------------- ---------- 1.0/1.3 MB 3.5 MB/s eta 0:00:01\n",
      "   ------------------------------------- -- 1.2/1.3 MB 3.8 MB/s eta 0:00:01\n",
      "   ---------------------------------------- 1.3/1.3 MB 3.4 MB/s eta 0:00:00\n",
      "Downloading pyinstaller_hooks_contrib-2023.10-py2.py3-none-any.whl (288 kB)\n",
      "   ---------------------------------------- 0.0/288.4 kB ? eta -:--:--\n",
      "   ---------------------------------------  286.7/288.4 kB 8.9 MB/s eta 0:00:01\n",
      "   ---------------------------------------- 288.4/288.4 kB 5.9 MB/s eta 0:00:00\n",
      "Downloading pywin32_ctypes-0.2.2-py3-none-any.whl (30 kB)\n",
      "Downloading altgraph-0.17.4-py2.py3-none-any.whl (21 kB)\n",
      "Installing collected packages: altgraph, pywin32-ctypes, pyinstaller-hooks-contrib, pefile, pyinstaller\n",
      "Successfully installed altgraph-0.17.4 pefile-2023.2.7 pyinstaller-6.1.0 pyinstaller-hooks-contrib-2023.10 pywin32-ctypes-0.2.2\n"
     ]
    },
    {
     "name": "stderr",
     "output_type": "stream",
     "text": [
      "WARNING: There was an error checking the latest version of pip.\n"
     ]
    }
   ],
   "source": [
    "# !pip install pyinstaller"
   ]
  },
  {
   "cell_type": "markdown",
   "metadata": {},
   "source": [
    "# Build"
   ]
  },
  {
   "cell_type": "code",
   "execution_count": null,
   "metadata": {},
   "outputs": [],
   "source": [
    "!pyinstaller.exe --noconsole temperature_converter.py"
   ]
  }
 ],
 "metadata": {
  "kernelspec": {
   "display_name": "Python 3",
   "language": "python",
   "name": "python3"
  },
  "language_info": {
   "codemirror_mode": {
    "name": "ipython",
    "version": 3
   },
   "file_extension": ".py",
   "mimetype": "text/x-python",
   "name": "python",
   "nbconvert_exporter": "python",
   "pygments_lexer": "ipython3",
   "version": "3.10.13"
  }
 },
 "nbformat": 4,
 "nbformat_minor": 2
}
